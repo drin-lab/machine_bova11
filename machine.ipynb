{
 "cells": [
  {
   "cell_type": "markdown",
   "id": "8cd0badd",
   "metadata": {},
   "source": [
    "**Criando um modelo preditivo que busca responder a pergunta:**\n",
    "* O preço das ações do índice da Bovespa, o BOVA11, vai subir ou cair amanhã?\n",
    "* Com esta resposta em mãos, o investidor pode decidir se vai comprar ou não as ações deste índice.\n",
    "* O Bova11 é o antigo IBovespa, e é uma cesta das ações mais negociadas na Bolsa de São Paulo"
   ]
  },
  {
   "cell_type": "code",
   "execution_count": 183,
   "id": "467a7f71",
   "metadata": {},
   "outputs": [],
   "source": [
    "# importando os pacotes necessários \n",
    "import pandas as pd\n",
    "import matplotlib.pyplot as plt"
   ]
  },
  {
   "cell_type": "code",
   "execution_count": 184,
   "id": "682167d5",
   "metadata": {},
   "outputs": [
    {
     "name": "stdout",
     "output_type": "stream",
     "text": [
      "Requirement already satisfied: yfinance in c:\\users\\user\\anaconda3\\lib\\site-packages (0.1.77)\n",
      "Requirement already satisfied: multitasking>=0.0.7 in c:\\users\\user\\anaconda3\\lib\\site-packages (from yfinance) (0.0.11)\n",
      "Requirement already satisfied: appdirs>=1.4.4 in c:\\users\\user\\anaconda3\\lib\\site-packages (from yfinance) (1.4.4)\n",
      "Requirement already satisfied: requests>=2.26 in c:\\users\\user\\anaconda3\\lib\\site-packages (from yfinance) (2.26.0)\n",
      "Requirement already satisfied: numpy>=1.15 in c:\\users\\user\\anaconda3\\lib\\site-packages (from yfinance) (1.23.1)\n",
      "Requirement already satisfied: lxml>=4.5.1 in c:\\users\\user\\anaconda3\\lib\\site-packages (from yfinance) (4.6.3)\n",
      "Requirement already satisfied: pandas>=0.24.0 in c:\\users\\user\\anaconda3\\lib\\site-packages (from yfinance) (1.3.4)\n",
      "Requirement already satisfied: python-dateutil>=2.7.3 in c:\\users\\user\\anaconda3\\lib\\site-packages (from pandas>=0.24.0->yfinance) (2.8.2)\n",
      "Requirement already satisfied: pytz>=2017.3 in c:\\users\\user\\anaconda3\\lib\\site-packages (from pandas>=0.24.0->yfinance) (2021.3)\n",
      "Requirement already satisfied: six>=1.5 in c:\\users\\user\\anaconda3\\lib\\site-packages (from python-dateutil>=2.7.3->pandas>=0.24.0->yfinance) (1.16.0)\n",
      "Requirement already satisfied: charset-normalizer~=2.0.0 in c:\\users\\user\\anaconda3\\lib\\site-packages (from requests>=2.26->yfinance) (2.0.4)\n",
      "Requirement already satisfied: urllib3<1.27,>=1.21.1 in c:\\users\\user\\anaconda3\\lib\\site-packages (from requests>=2.26->yfinance) (1.26.7)\n",
      "Requirement already satisfied: certifi>=2017.4.17 in c:\\users\\user\\anaconda3\\lib\\site-packages (from requests>=2.26->yfinance) (2021.10.8)\n",
      "Requirement already satisfied: idna<4,>=2.5 in c:\\users\\user\\anaconda3\\lib\\site-packages (from requests>=2.26->yfinance) (3.2)\n"
     ]
    }
   ],
   "source": [
    "!pip install yfinance"
   ]
  },
  {
   "cell_type": "code",
   "execution_count": 185,
   "id": "2ff37b56",
   "metadata": {},
   "outputs": [],
   "source": [
    "import yfinance as yf"
   ]
  },
  {
   "cell_type": "code",
   "execution_count": 186,
   "id": "d3520555",
   "metadata": {},
   "outputs": [],
   "source": [
    "bova11 = yf.Ticker(\"BOVA11.SA\")"
   ]
  },
  {
   "cell_type": "code",
   "execution_count": 187,
   "id": "658b9b22",
   "metadata": {},
   "outputs": [],
   "source": [
    "bova11 = bova11.history(period=\"max\")"
   ]
  },
  {
   "cell_type": "code",
   "execution_count": 188,
   "id": "00dc3d50",
   "metadata": {},
   "outputs": [
    {
     "data": {
      "text/html": [
       "<div>\n",
       "<style scoped>\n",
       "    .dataframe tbody tr th:only-of-type {\n",
       "        vertical-align: middle;\n",
       "    }\n",
       "\n",
       "    .dataframe tbody tr th {\n",
       "        vertical-align: top;\n",
       "    }\n",
       "\n",
       "    .dataframe thead th {\n",
       "        text-align: right;\n",
       "    }\n",
       "</style>\n",
       "<table border=\"1\" class=\"dataframe\">\n",
       "  <thead>\n",
       "    <tr style=\"text-align: right;\">\n",
       "      <th></th>\n",
       "      <th>Open</th>\n",
       "      <th>High</th>\n",
       "      <th>Low</th>\n",
       "      <th>Close</th>\n",
       "      <th>Volume</th>\n",
       "      <th>Dividends</th>\n",
       "      <th>Stock Splits</th>\n",
       "    </tr>\n",
       "    <tr>\n",
       "      <th>Date</th>\n",
       "      <th></th>\n",
       "      <th></th>\n",
       "      <th></th>\n",
       "      <th></th>\n",
       "      <th></th>\n",
       "      <th></th>\n",
       "      <th></th>\n",
       "    </tr>\n",
       "  </thead>\n",
       "  <tbody>\n",
       "    <tr>\n",
       "      <th>2008-11-28 00:00:00-02:00</th>\n",
       "      <td>36.595901</td>\n",
       "      <td>36.595901</td>\n",
       "      <td>36.595901</td>\n",
       "      <td>36.595901</td>\n",
       "      <td>0</td>\n",
       "      <td>0</td>\n",
       "      <td>0</td>\n",
       "    </tr>\n",
       "    <tr>\n",
       "      <th>2008-12-01 00:00:00-02:00</th>\n",
       "      <td>34.744900</td>\n",
       "      <td>34.744900</td>\n",
       "      <td>34.744900</td>\n",
       "      <td>34.744900</td>\n",
       "      <td>0</td>\n",
       "      <td>0</td>\n",
       "      <td>0</td>\n",
       "    </tr>\n",
       "    <tr>\n",
       "      <th>2008-12-02 00:00:00-02:00</th>\n",
       "      <td>35.001598</td>\n",
       "      <td>35.001598</td>\n",
       "      <td>35.001598</td>\n",
       "      <td>35.001598</td>\n",
       "      <td>0</td>\n",
       "      <td>0</td>\n",
       "      <td>0</td>\n",
       "    </tr>\n",
       "    <tr>\n",
       "      <th>2008-12-03 00:00:00-02:00</th>\n",
       "      <td>35.293800</td>\n",
       "      <td>35.293800</td>\n",
       "      <td>35.293800</td>\n",
       "      <td>35.293800</td>\n",
       "      <td>0</td>\n",
       "      <td>0</td>\n",
       "      <td>0</td>\n",
       "    </tr>\n",
       "    <tr>\n",
       "      <th>2008-12-04 00:00:00-02:00</th>\n",
       "      <td>35.122101</td>\n",
       "      <td>35.122101</td>\n",
       "      <td>35.122101</td>\n",
       "      <td>35.122101</td>\n",
       "      <td>0</td>\n",
       "      <td>0</td>\n",
       "      <td>0</td>\n",
       "    </tr>\n",
       "  </tbody>\n",
       "</table>\n",
       "</div>"
      ],
      "text/plain": [
       "                                Open       High        Low      Close  Volume  \\\n",
       "Date                                                                            \n",
       "2008-11-28 00:00:00-02:00  36.595901  36.595901  36.595901  36.595901       0   \n",
       "2008-12-01 00:00:00-02:00  34.744900  34.744900  34.744900  34.744900       0   \n",
       "2008-12-02 00:00:00-02:00  35.001598  35.001598  35.001598  35.001598       0   \n",
       "2008-12-03 00:00:00-02:00  35.293800  35.293800  35.293800  35.293800       0   \n",
       "2008-12-04 00:00:00-02:00  35.122101  35.122101  35.122101  35.122101       0   \n",
       "\n",
       "                           Dividends  Stock Splits  \n",
       "Date                                                \n",
       "2008-11-28 00:00:00-02:00          0             0  \n",
       "2008-12-01 00:00:00-02:00          0             0  \n",
       "2008-12-02 00:00:00-02:00          0             0  \n",
       "2008-12-03 00:00:00-02:00          0             0  \n",
       "2008-12-04 00:00:00-02:00          0             0  "
      ]
     },
     "execution_count": 188,
     "metadata": {},
     "output_type": "execute_result"
    }
   ],
   "source": [
    "bova11.head()"
   ]
  },
  {
   "cell_type": "code",
   "execution_count": 192,
   "id": "b89352b9",
   "metadata": {},
   "outputs": [
    {
     "data": {
      "text/plain": [
       "3440"
      ]
     },
     "execution_count": 192,
     "metadata": {},
     "output_type": "execute_result"
    }
   ],
   "source": [
    "len(bova11)"
   ]
  },
  {
   "cell_type": "code",
   "execution_count": 194,
   "id": "96c39b26",
   "metadata": {},
   "outputs": [
    {
     "data": {
      "text/plain": [
       "DatetimeIndex(['2008-11-28 00:00:00-02:00', '2008-12-01 00:00:00-02:00',\n",
       "               '2008-12-02 00:00:00-02:00', '2008-12-03 00:00:00-02:00',\n",
       "               '2008-12-04 00:00:00-02:00', '2008-12-05 00:00:00-02:00',\n",
       "               '2008-12-08 00:00:00-02:00', '2008-12-09 00:00:00-02:00',\n",
       "               '2008-12-10 00:00:00-02:00', '2008-12-11 00:00:00-02:00',\n",
       "               ...\n",
       "               '2022-09-28 00:00:00-03:00', '2022-09-29 00:00:00-03:00',\n",
       "               '2022-09-30 00:00:00-03:00', '2022-10-03 00:00:00-03:00',\n",
       "               '2022-10-04 00:00:00-03:00', '2022-10-05 00:00:00-03:00',\n",
       "               '2022-10-06 00:00:00-03:00', '2022-10-07 00:00:00-03:00',\n",
       "               '2022-10-10 00:00:00-03:00', '2022-10-11 00:00:00-03:00'],\n",
       "              dtype='datetime64[ns, America/Sao_Paulo]', name='Date', length=3440, freq=None)"
      ]
     },
     "execution_count": 194,
     "metadata": {},
     "output_type": "execute_result"
    }
   ],
   "source": [
    "bova11.index"
   ]
  },
  {
   "cell_type": "markdown",
   "id": "1264d33b",
   "metadata": {},
   "source": [
    "**Plotando a série temporal de todos os dados disponíveis do índice BOVA11**"
   ]
  },
  {
   "cell_type": "code",
   "execution_count": 195,
   "id": "1ef69e1c",
   "metadata": {},
   "outputs": [
    {
     "data": {
      "image/png": "[encoded data removed]",
      "text/plain": [
       "<Figure size 432x288 with 1 Axes>"
      ]
     },
     "metadata": {
      "needs_background": "light"
     },
     "output_type": "display_data"
    }
   ],
   "source": [
    "bova11.plot(y='Close')\n",
    "plt.show()"
   ]
  },
  {
   "cell_type": "code",
   "execution_count": 196,
   "id": "723ea7da",
   "metadata": {},
   "outputs": [],
   "source": [
    "# deletando duas colunas pouco úteis para o modelo \n",
    "del bova11['Dividends']\n",
    "del bova11['Stock Splits']"
   ]
  },
  {
   "cell_type": "code",
   "execution_count": 197,
   "id": "1393f0dc",
   "metadata": {},
   "outputs": [],
   "source": [
    "# criando uma coluna auxiliar ( a coluna 'Amanhâ') que vai nos ajudar a criar a coluna 'Target'\n",
    "# Será a coluna 'Target' que vai nos responder se o preço vai subir ou cair.\n",
    "# a pergunta que estamos tentando responder é: o preço da ação vai subir ou cair ?\n",
    "bova11['Amanha'] = bova11['Close'].shift(-1)"
   ]
  },
  {
   "cell_type": "code",
   "execution_count": 198,
   "id": "98bb5df9",
   "metadata": {},
   "outputs": [
    {
     "data": {
      "text/html": [
       "<div>\n",
       "<style scoped>\n",
       "    .dataframe tbody tr th:only-of-type {\n",
       "        vertical-align: middle;\n",
       "    }\n",
       "\n",
       "    .dataframe tbody tr th {\n",
       "        vertical-align: top;\n",
       "    }\n",
       "\n",
       "    .dataframe thead th {\n",
       "        text-align: right;\n",
       "    }\n",
       "</style>\n",
       "<table border=\"1\" class=\"dataframe\">\n",
       "  <thead>\n",
       "    <tr style=\"text-align: right;\">\n",
       "      <th></th>\n",
       "      <th>Open</th>\n",
       "      <th>High</th>\n",
       "      <th>Low</th>\n",
       "      <th>Close</th>\n",
       "      <th>Volume</th>\n",
       "      <th>Amanha</th>\n",
       "    </tr>\n",
       "    <tr>\n",
       "      <th>Date</th>\n",
       "      <th></th>\n",
       "      <th></th>\n",
       "      <th></th>\n",
       "      <th></th>\n",
       "      <th></th>\n",
       "      <th></th>\n",
       "    </tr>\n",
       "  </thead>\n",
       "  <tbody>\n",
       "    <tr>\n",
       "      <th>2008-11-28 00:00:00-02:00</th>\n",
       "      <td>36.595901</td>\n",
       "      <td>36.595901</td>\n",
       "      <td>36.595901</td>\n",
       "      <td>36.595901</td>\n",
       "      <td>0</td>\n",
       "      <td>34.744900</td>\n",
       "    </tr>\n",
       "    <tr>\n",
       "      <th>2008-12-01 00:00:00-02:00</th>\n",
       "      <td>34.744900</td>\n",
       "      <td>34.744900</td>\n",
       "      <td>34.744900</td>\n",
       "      <td>34.744900</td>\n",
       "      <td>0</td>\n",
       "      <td>35.001598</td>\n",
       "    </tr>\n",
       "  </tbody>\n",
       "</table>\n",
       "</div>"
      ],
      "text/plain": [
       "                                Open       High        Low      Close  Volume  \\\n",
       "Date                                                                            \n",
       "2008-11-28 00:00:00-02:00  36.595901  36.595901  36.595901  36.595901       0   \n",
       "2008-12-01 00:00:00-02:00  34.744900  34.744900  34.744900  34.744900       0   \n",
       "\n",
       "                              Amanha  \n",
       "Date                                  \n",
       "2008-11-28 00:00:00-02:00  34.744900  \n",
       "2008-12-01 00:00:00-02:00  35.001598  "
      ]
     },
     "execution_count": 198,
     "metadata": {},
     "output_type": "execute_result"
    }
   ],
   "source": [
    "bova11.head(2)"
   ]
  },
  {
   "cell_type": "code",
   "execution_count": 199,
   "id": "fda7a435",
   "metadata": {},
   "outputs": [],
   "source": [
    "# a coluna 'Target' responde a pergunta: o preço subiu ou caiu? \n",
    "# quando a coluna tem valor '0' é sinal que o preço diminuiu, se a coluna tem valor '1', o preço subiu\n",
    "bova11['Target'] = (bova11['Amanha'] > bova11['Close']).astype(int)"
   ]
  },
  {
   "cell_type": "code",
   "execution_count": 200,
   "id": "be69aa0a",
   "metadata": {},
   "outputs": [
    {
     "data": {
      "text/html": [
       "<div>\n",
       "<style scoped>\n",
       "    .dataframe tbody tr th:only-of-type {\n",
       "        vertical-align: middle;\n",
       "    }\n",
       "\n",
       "    .dataframe tbody tr th {\n",
       "        vertical-align: top;\n",
       "    }\n",
       "\n",
       "    .dataframe thead th {\n",
       "        text-align: right;\n",
       "    }\n",
       "</style>\n",
       "<table border=\"1\" class=\"dataframe\">\n",
       "  <thead>\n",
       "    <tr style=\"text-align: right;\">\n",
       "      <th></th>\n",
       "      <th>Open</th>\n",
       "      <th>High</th>\n",
       "      <th>Low</th>\n",
       "      <th>Close</th>\n",
       "      <th>Volume</th>\n",
       "      <th>Amanha</th>\n",
       "      <th>Target</th>\n",
       "    </tr>\n",
       "    <tr>\n",
       "      <th>Date</th>\n",
       "      <th></th>\n",
       "      <th></th>\n",
       "      <th></th>\n",
       "      <th></th>\n",
       "      <th></th>\n",
       "      <th></th>\n",
       "      <th></th>\n",
       "    </tr>\n",
       "  </thead>\n",
       "  <tbody>\n",
       "    <tr>\n",
       "      <th>2008-11-28 00:00:00-02:00</th>\n",
       "      <td>36.595901</td>\n",
       "      <td>36.595901</td>\n",
       "      <td>36.595901</td>\n",
       "      <td>36.595901</td>\n",
       "      <td>0</td>\n",
       "      <td>34.744900</td>\n",
       "      <td>0</td>\n",
       "    </tr>\n",
       "    <tr>\n",
       "      <th>2008-12-01 00:00:00-02:00</th>\n",
       "      <td>34.744900</td>\n",
       "      <td>34.744900</td>\n",
       "      <td>34.744900</td>\n",
       "      <td>34.744900</td>\n",
       "      <td>0</td>\n",
       "      <td>35.001598</td>\n",
       "      <td>1</td>\n",
       "    </tr>\n",
       "    <tr>\n",
       "      <th>2008-12-02 00:00:00-02:00</th>\n",
       "      <td>35.001598</td>\n",
       "      <td>35.001598</td>\n",
       "      <td>35.001598</td>\n",
       "      <td>35.001598</td>\n",
       "      <td>0</td>\n",
       "      <td>35.293800</td>\n",
       "      <td>1</td>\n",
       "    </tr>\n",
       "    <tr>\n",
       "      <th>2008-12-03 00:00:00-02:00</th>\n",
       "      <td>35.293800</td>\n",
       "      <td>35.293800</td>\n",
       "      <td>35.293800</td>\n",
       "      <td>35.293800</td>\n",
       "      <td>0</td>\n",
       "      <td>35.122101</td>\n",
       "      <td>0</td>\n",
       "    </tr>\n",
       "    <tr>\n",
       "      <th>2008-12-04 00:00:00-02:00</th>\n",
       "      <td>35.122101</td>\n",
       "      <td>35.122101</td>\n",
       "      <td>35.122101</td>\n",
       "      <td>35.122101</td>\n",
       "      <td>0</td>\n",
       "      <td>35.340000</td>\n",
       "      <td>1</td>\n",
       "    </tr>\n",
       "  </tbody>\n",
       "</table>\n",
       "</div>"
      ],
      "text/plain": [
       "                                Open       High        Low      Close  Volume  \\\n",
       "Date                                                                            \n",
       "2008-11-28 00:00:00-02:00  36.595901  36.595901  36.595901  36.595901       0   \n",
       "2008-12-01 00:00:00-02:00  34.744900  34.744900  34.744900  34.744900       0   \n",
       "2008-12-02 00:00:00-02:00  35.001598  35.001598  35.001598  35.001598       0   \n",
       "2008-12-03 00:00:00-02:00  35.293800  35.293800  35.293800  35.293800       0   \n",
       "2008-12-04 00:00:00-02:00  35.122101  35.122101  35.122101  35.122101       0   \n",
       "\n",
       "                              Amanha  Target  \n",
       "Date                                          \n",
       "2008-11-28 00:00:00-02:00  34.744900       0  \n",
       "2008-12-01 00:00:00-02:00  35.001598       1  \n",
       "2008-12-02 00:00:00-02:00  35.293800       1  \n",
       "2008-12-03 00:00:00-02:00  35.122101       0  \n",
       "2008-12-04 00:00:00-02:00  35.340000       1  "
      ]
     },
     "execution_count": 200,
     "metadata": {},
     "output_type": "execute_result"
    }
   ],
   "source": [
    "bova11.head()"
   ]
  },
  {
   "cell_type": "code",
   "execution_count": 201,
   "id": "99976562",
   "metadata": {},
   "outputs": [],
   "source": [
    "# subsetting o dataset para registros apenas de a partir de 2012\n",
    "# limitando a quantidade de registros para análise\n",
    "bova11 = bova11.loc[\"2008-10-10 00:00:00-02:00\":].copy()"
   ]
  },
  {
   "cell_type": "code",
   "execution_count": 202,
   "id": "a74f51fd",
   "metadata": {},
   "outputs": [
    {
     "data": {
      "text/html": [
       "<div>\n",
       "<style scoped>\n",
       "    .dataframe tbody tr th:only-of-type {\n",
       "        vertical-align: middle;\n",
       "    }\n",
       "\n",
       "    .dataframe tbody tr th {\n",
       "        vertical-align: top;\n",
       "    }\n",
       "\n",
       "    .dataframe thead th {\n",
       "        text-align: right;\n",
       "    }\n",
       "</style>\n",
       "<table border=\"1\" class=\"dataframe\">\n",
       "  <thead>\n",
       "    <tr style=\"text-align: right;\">\n",
       "      <th></th>\n",
       "      <th>Open</th>\n",
       "      <th>High</th>\n",
       "      <th>Low</th>\n",
       "      <th>Close</th>\n",
       "      <th>Volume</th>\n",
       "      <th>Amanha</th>\n",
       "      <th>Target</th>\n",
       "    </tr>\n",
       "    <tr>\n",
       "      <th>Date</th>\n",
       "      <th></th>\n",
       "      <th></th>\n",
       "      <th></th>\n",
       "      <th></th>\n",
       "      <th></th>\n",
       "      <th></th>\n",
       "      <th></th>\n",
       "    </tr>\n",
       "  </thead>\n",
       "  <tbody>\n",
       "    <tr>\n",
       "      <th>2008-11-28 00:00:00-02:00</th>\n",
       "      <td>36.595901</td>\n",
       "      <td>36.595901</td>\n",
       "      <td>36.595901</td>\n",
       "      <td>36.595901</td>\n",
       "      <td>0</td>\n",
       "      <td>34.744900</td>\n",
       "      <td>0</td>\n",
       "    </tr>\n",
       "    <tr>\n",
       "      <th>2008-12-01 00:00:00-02:00</th>\n",
       "      <td>34.744900</td>\n",
       "      <td>34.744900</td>\n",
       "      <td>34.744900</td>\n",
       "      <td>34.744900</td>\n",
       "      <td>0</td>\n",
       "      <td>35.001598</td>\n",
       "      <td>1</td>\n",
       "    </tr>\n",
       "  </tbody>\n",
       "</table>\n",
       "</div>"
      ],
      "text/plain": [
       "                                Open       High        Low      Close  Volume  \\\n",
       "Date                                                                            \n",
       "2008-11-28 00:00:00-02:00  36.595901  36.595901  36.595901  36.595901       0   \n",
       "2008-12-01 00:00:00-02:00  34.744900  34.744900  34.744900  34.744900       0   \n",
       "\n",
       "                              Amanha  Target  \n",
       "Date                                          \n",
       "2008-11-28 00:00:00-02:00  34.744900       0  \n",
       "2008-12-01 00:00:00-02:00  35.001598       1  "
      ]
     },
     "execution_count": 202,
     "metadata": {},
     "output_type": "execute_result"
    }
   ],
   "source": [
    "bova11.head(2)"
   ]
  },
  {
   "cell_type": "markdown",
   "id": "24ed268b",
   "metadata": {},
   "source": [
    "**Criando e treinando o modelo**"
   ]
  },
  {
   "cell_type": "code",
   "execution_count": 203,
   "id": "1312a0ca",
   "metadata": {},
   "outputs": [],
   "source": [
    "# Baixando o modelo RandomForest\n",
    "# Escolhi o modelo RandomForest porque ele consegue enxergar bem tendências não lineares nos dados\n",
    "# E as relações entre as variáveis num data set de bolsa de valores raramente é linear.\n",
    "# No mercado de ações as relações não são lineares.\n",
    "# por exemplo, o preço de abertura ('open') não está linearmente correlacionado com o valor da coluna 'Target'.\n",
    "# Não existe relação linear entre o preço de abertura e target. Por exemplo, se uma variável aumentar, a outra tb vai aumentar\n",
    "# ... se vc conseguir encontrar uma relação linear, vai conseguir ganhar muito dinheiro ...\n",
    "from sklearn.ensemble import RandomForestClassifier"
   ]
  },
  {
   "cell_type": "code",
   "execution_count": 204,
   "id": "daf94f7d",
   "metadata": {},
   "outputs": [],
   "source": [
    "# Escolhendo os hiperparâmetros do modelo: n_estimators e min_samples_split\n",
    "# n_estimators é o número de arvores de decisão que vc quer treinar\n",
    "# quanto maior for este número, mais acurado/preciso vai ser o seu modelo \n",
    "# isso vai até um certo limite, pq senão causa overfitting\n",
    "# usando o parametro 'min_samples_split' para evitar overfitting\n",
    "# usando 'random_state' para preservar os resultados, caso desejarmos reutilizar o modelo\n",
    "model = RandomForestClassifier(n_estimators = 75, min_samples_split = 25, random_state=5)"
   ]
  },
  {
   "cell_type": "code",
   "execution_count": 205,
   "id": "bbf71fb9",
   "metadata": {},
   "outputs": [],
   "source": [
    "# repartindo o data set em treino e teste \n",
    "# como é um data set de série temporal não dá para usar cross_validation\n",
    "# se vc usar cross_validatation, vc pode acabar usando dados do futuro para prever o passado\n",
    "# esse erro se chama 'Leakage'- vc está vazando informações para o seu modelo\n",
    "train = bova11.iloc[:-100]\n",
    "test = bova11.iloc[-100:]\n",
    "\n",
    "predictors =[\"Close\",\"Volume\",\"Open\",\"High\",\"Low\"]\n"
   ]
  },
  {
   "cell_type": "code",
   "execution_count": 206,
   "id": "86516f09",
   "metadata": {},
   "outputs": [
    {
     "data": {
      "text/plain": [
       "RandomForestClassifier(min_samples_split=25, n_estimators=75, random_state=5)"
      ]
     },
     "execution_count": 206,
     "metadata": {},
     "output_type": "execute_result"
    }
   ],
   "source": [
    "## treinando o modelo - usando as colunas escolhidas em 'predictors' para tentar achar o valor da coluna \"Target\"\n",
    "model.fit(train[predictors],train[\"Target\"])"
   ]
  },
  {
   "cell_type": "markdown",
   "id": "77932010",
   "metadata": {},
   "source": [
    "**Avaliando a performance do modelo**"
   ]
  },
  {
   "cell_type": "code",
   "execution_count": 207,
   "id": "354c9b36",
   "metadata": {},
   "outputs": [],
   "source": [
    "# medindo a acurácia, precisão do modelo\n",
    "# medindo a performance do modelo - para saber se o modelo está realmente prevendo o que vc quer que ele preveja\n",
    "# lembrando o objetivo do modelo: nós queremos que ele preveja quando a ação vai subir ou cair\n",
    "from sklearn.metrics import precision_score\n",
    "preds = model.predict(test[predictors])"
   ]
  },
  {
   "cell_type": "code",
   "execution_count": 208,
   "id": "bcaea65e",
   "metadata": {},
   "outputs": [
    {
     "data": {
      "text/plain": [
       "array([1, 0, 1, 1, 1, 0, 0, 1, 1, 1, 1, 1, 0, 1, 1, 1, 1, 1, 0, 0, 1, 0,\n",
       "       0, 1, 0, 0, 1, 0, 0, 0, 0, 0, 0, 1, 0, 0, 0, 1, 0, 0, 0, 0, 0, 0,\n",
       "       1, 1, 1, 1, 1, 1, 1, 1, 1, 1, 1, 1, 1, 1, 1, 0, 0, 1, 1, 1, 0, 1,\n",
       "       1, 0, 0, 0, 1, 1, 1, 1, 1, 1, 1, 1, 1, 1, 0, 1, 1, 0, 0, 1, 0, 1,\n",
       "       0, 0, 1, 0, 1, 1, 1, 0, 1, 1, 0, 0])"
      ]
     },
     "execution_count": 208,
     "metadata": {},
     "output_type": "execute_result"
    }
   ],
   "source": [
    "preds"
   ]
  },
  {
   "cell_type": "code",
   "execution_count": 209,
   "id": "d242e869",
   "metadata": {},
   "outputs": [],
   "source": [
    "# convertendo preds em pandas Series\n",
    "preds = pd.Series(preds, index=test.index)"
   ]
  },
  {
   "cell_type": "code",
   "execution_count": 210,
   "id": "36cdd267",
   "metadata": {},
   "outputs": [
    {
     "data": {
      "text/plain": [
       "Date\n",
       "2022-05-23 00:00:00-03:00    1\n",
       "2022-05-24 00:00:00-03:00    0\n",
       "dtype: int32"
      ]
     },
     "execution_count": 210,
     "metadata": {},
     "output_type": "execute_result"
    }
   ],
   "source": [
    "preds[:2]"
   ]
  },
  {
   "cell_type": "code",
   "execution_count": 211,
   "id": "2e659597",
   "metadata": {},
   "outputs": [
    {
     "data": {
      "text/plain": [
       "0.4915254237288136"
      ]
     },
     "execution_count": 211,
     "metadata": {},
     "output_type": "execute_result"
    }
   ],
   "source": [
    "# traduzindo: a previsão só foi correta em 49% das vezes\n",
    "# por exemplo: 'quando dizemos que o preço ia subir, ele só subiu 49% das vezes'\n",
    "precision_score(test[\"Target\"], preds)"
   ]
  },
  {
   "cell_type": "code",
   "execution_count": 212,
   "id": "9f23a18a",
   "metadata": {},
   "outputs": [],
   "source": [
    "# concatenando os valores reais - test[Target] e os valores previstos num dataframe\n",
    "# usando 'axis = 1' para a função tratar os dois inputs como colunas\n",
    "combinado = pd.concat([test[\"Target\"], preds], axis=1)"
   ]
  },
  {
   "cell_type": "code",
   "execution_count": 213,
   "id": "4eee5a14",
   "metadata": {},
   "outputs": [
    {
     "data": {
      "text/html": [
       "<div>\n",
       "<style scoped>\n",
       "    .dataframe tbody tr th:only-of-type {\n",
       "        vertical-align: middle;\n",
       "    }\n",
       "\n",
       "    .dataframe tbody tr th {\n",
       "        vertical-align: top;\n",
       "    }\n",
       "\n",
       "    .dataframe thead th {\n",
       "        text-align: right;\n",
       "    }\n",
       "</style>\n",
       "<table border=\"1\" class=\"dataframe\">\n",
       "  <thead>\n",
       "    <tr style=\"text-align: right;\">\n",
       "      <th></th>\n",
       "      <th>Target</th>\n",
       "      <th>0</th>\n",
       "    </tr>\n",
       "    <tr>\n",
       "      <th>Date</th>\n",
       "      <th></th>\n",
       "      <th></th>\n",
       "    </tr>\n",
       "  </thead>\n",
       "  <tbody>\n",
       "    <tr>\n",
       "      <th>2022-05-23 00:00:00-03:00</th>\n",
       "      <td>0</td>\n",
       "      <td>1</td>\n",
       "    </tr>\n",
       "    <tr>\n",
       "      <th>2022-05-24 00:00:00-03:00</th>\n",
       "      <td>1</td>\n",
       "      <td>0</td>\n",
       "    </tr>\n",
       "    <tr>\n",
       "      <th>2022-05-25 00:00:00-03:00</th>\n",
       "      <td>1</td>\n",
       "      <td>1</td>\n",
       "    </tr>\n",
       "  </tbody>\n",
       "</table>\n",
       "</div>"
      ],
      "text/plain": [
       "                           Target  0\n",
       "Date                                \n",
       "2022-05-23 00:00:00-03:00       0  1\n",
       "2022-05-24 00:00:00-03:00       1  0\n",
       "2022-05-25 00:00:00-03:00       1  1"
      ]
     },
     "execution_count": 213,
     "metadata": {},
     "output_type": "execute_result"
    }
   ],
   "source": [
    "combinado.head(3)"
   ]
  },
  {
   "cell_type": "code",
   "execution_count": 214,
   "id": "89228716",
   "metadata": {},
   "outputs": [],
   "source": [
    "# construindo um sistema de teste mais robusto\n",
    "def predict(train, test, predictors, model):\n",
    "    model.fit(train[predictors], train[\"Target\"])\n",
    "    preds = model.predict(test[predictors])\n",
    "    preds = pd.Series(preds, index=test.index, name=\"Predictions\")\n",
    "    combinado = pd.concat([test[\"Target\"], preds], axis=1)\n",
    "    return combinado"
   ]
  },
  {
   "cell_type": "code",
   "execution_count": 215,
   "id": "ce258563",
   "metadata": {},
   "outputs": [],
   "source": [
    "def backtest(data, model, predictors, start=100,step=10):\n",
    "    all_predictions=[]\n",
    "    for i in range(start, data.shape[0], step):\n",
    "        train = data.iloc[0:i].copy()\n",
    "        test = data.iloc[i:(i+step)].copy()\n",
    "        predictions = predict(train, test, predictors, model)\n",
    "        all_predictions.append(predictions)\n",
    "    return pd.concat(all_predictions)"
   ]
  },
  {
   "cell_type": "code",
   "execution_count": 216,
   "id": "21945025",
   "metadata": {},
   "outputs": [],
   "source": [
    "predictions = backtest(bova11, model, predictors)"
   ]
  },
  {
   "cell_type": "code",
   "execution_count": 217,
   "id": "244ea168",
   "metadata": {},
   "outputs": [
    {
     "data": {
      "text/plain": [
       "1    1723\n",
       "0    1617\n",
       "Name: Predictions, dtype: int64"
      ]
     },
     "execution_count": 217,
     "metadata": {},
     "output_type": "execute_result"
    }
   ],
   "source": [
    "# avaliando o erro das predições\n",
    "predictions[\"Predictions\"].value_counts()"
   ]
  },
  {
   "cell_type": "code",
   "execution_count": 218,
   "id": "a2149a86",
   "metadata": {},
   "outputs": [
    {
     "data": {
      "text/plain": [
       "0.5235055136390018"
      ]
     },
     "execution_count": 218,
     "metadata": {},
     "output_type": "execute_result"
    }
   ],
   "source": [
    "# traduzindo: o modelo foi preciso - acurado - em 52% dos casos\n",
    "precision_score(predictions[\"Target\"], predictions[\"Predictions\"])"
   ]
  },
  {
   "cell_type": "code",
   "execution_count": 219,
   "id": "39623f14",
   "metadata": {},
   "outputs": [
    {
     "data": {
      "text/plain": [
       "1    0.506287\n",
       "0    0.493713\n",
       "Name: Target, dtype: float64"
      ]
     },
     "execution_count": 219,
     "metadata": {},
     "output_type": "execute_result"
    }
   ],
   "source": [
    "# checando a porcentagem de dias em que o mercado realmente subiu\n",
    "# traduzindo: o modelo que criamos só performou um pouquinho melhor q a vida real (somente 0.01 )\n",
    "# a diferença entre os dados oferecidos pelo modelo e as previsoes é de ap\n",
    "predictions[\"Target\"].value_counts()/predictions.shape[0]"
   ]
  },
  {
   "cell_type": "markdown",
   "id": "755d79f2",
   "metadata": {},
   "source": [
    "**Aperfeiçoando novamente o modelo**"
   ]
  },
  {
   "cell_type": "code",
   "execution_count": 220,
   "id": "bdd1cdfe",
   "metadata": {},
   "outputs": [],
   "source": [
    "# Aperfeiçoando o modelo (para melhorar a precisão/acurácia), acrescentando mais colunas preditoras\n",
    "# Vamos dar ao algoritmo mais informações, mais colunas preditoras para auxiliá-lo em seu cálculo preditivo. \n",
    "# As novas colunas serão montadas com as médias móveis do preço de fechamento ('Close') dentro destes horizontes temporais de ...\n",
    "# ... 2, 5, 60 e 250 dias.\n",
    "# Também vamos acrescentar outras colunas com a tendência de mudança no preço de fechamento, somando os valores da coluna ...\n",
    "# 'Target' nestes horizontes temporais de 2, 5, 60 e 250 dias.\n",
    "\n",
    "horizontes = [2, 5, 60, 250]\n",
    "new_predictors = []\n",
    "\n",
    "for horizonte in horizontes:\n",
    "    medias_moveis = bova11.rolling(horizonte).mean()\n",
    "    \n",
    "    proporcao_coluna = f\"Proporcao_Fechamento_{horizonte}\"\n",
    "    bova11[proporcao_coluna] = bova11['Close']/medias_moveis['Close']\n",
    "    \n",
    "    tendencia_coluna = f\"Tendencia_{horizonte}\"\n",
    "    bova11[tendencia_coluna] = bova11.shift(1).rolling(horizonte).sum()[\"Target\"] # soma móvel da coluna \"Target\"\n",
    "    new_predictors +=[proporcao_coluna, tendencia_coluna]    "
   ]
  },
  {
   "cell_type": "code",
   "execution_count": 221,
   "id": "f4380c9c",
   "metadata": {},
   "outputs": [
    {
     "data": {
      "text/html": [
       "<div>\n",
       "<style scoped>\n",
       "    .dataframe tbody tr th:only-of-type {\n",
       "        vertical-align: middle;\n",
       "    }\n",
       "\n",
       "    .dataframe tbody tr th {\n",
       "        vertical-align: top;\n",
       "    }\n",
       "\n",
       "    .dataframe thead th {\n",
       "        text-align: right;\n",
       "    }\n",
       "</style>\n",
       "<table border=\"1\" class=\"dataframe\">\n",
       "  <thead>\n",
       "    <tr style=\"text-align: right;\">\n",
       "      <th></th>\n",
       "      <th>Open</th>\n",
       "      <th>High</th>\n",
       "      <th>Low</th>\n",
       "      <th>Close</th>\n",
       "      <th>Volume</th>\n",
       "      <th>Amanha</th>\n",
       "      <th>Target</th>\n",
       "      <th>Proporcao_Fechamento_2</th>\n",
       "      <th>Tendencia_2</th>\n",
       "      <th>Proporcao_Fechamento_5</th>\n",
       "      <th>Tendencia_5</th>\n",
       "      <th>Proporcao_Fechamento_60</th>\n",
       "      <th>Tendencia_60</th>\n",
       "      <th>Proporcao_Fechamento_250</th>\n",
       "      <th>Tendencia_250</th>\n",
       "    </tr>\n",
       "    <tr>\n",
       "      <th>Date</th>\n",
       "      <th></th>\n",
       "      <th></th>\n",
       "      <th></th>\n",
       "      <th></th>\n",
       "      <th></th>\n",
       "      <th></th>\n",
       "      <th></th>\n",
       "      <th></th>\n",
       "      <th></th>\n",
       "      <th></th>\n",
       "      <th></th>\n",
       "      <th></th>\n",
       "      <th></th>\n",
       "      <th></th>\n",
       "      <th></th>\n",
       "    </tr>\n",
       "  </thead>\n",
       "  <tbody>\n",
       "    <tr>\n",
       "      <th>2008-11-28 00:00:00-02:00</th>\n",
       "      <td>36.595901</td>\n",
       "      <td>36.595901</td>\n",
       "      <td>36.595901</td>\n",
       "      <td>36.595901</td>\n",
       "      <td>0</td>\n",
       "      <td>34.744900</td>\n",
       "      <td>0</td>\n",
       "      <td>NaN</td>\n",
       "      <td>NaN</td>\n",
       "      <td>NaN</td>\n",
       "      <td>NaN</td>\n",
       "      <td>NaN</td>\n",
       "      <td>NaN</td>\n",
       "      <td>NaN</td>\n",
       "      <td>NaN</td>\n",
       "    </tr>\n",
       "    <tr>\n",
       "      <th>2008-12-01 00:00:00-02:00</th>\n",
       "      <td>34.744900</td>\n",
       "      <td>34.744900</td>\n",
       "      <td>34.744900</td>\n",
       "      <td>34.744900</td>\n",
       "      <td>0</td>\n",
       "      <td>35.001598</td>\n",
       "      <td>1</td>\n",
       "      <td>0.974054</td>\n",
       "      <td>NaN</td>\n",
       "      <td>NaN</td>\n",
       "      <td>NaN</td>\n",
       "      <td>NaN</td>\n",
       "      <td>NaN</td>\n",
       "      <td>NaN</td>\n",
       "      <td>NaN</td>\n",
       "    </tr>\n",
       "  </tbody>\n",
       "</table>\n",
       "</div>"
      ],
      "text/plain": [
       "                                Open       High        Low      Close  Volume  \\\n",
       "Date                                                                            \n",
       "2008-11-28 00:00:00-02:00  36.595901  36.595901  36.595901  36.595901       0   \n",
       "2008-12-01 00:00:00-02:00  34.744900  34.744900  34.744900  34.744900       0   \n",
       "\n",
       "                              Amanha  Target  Proporcao_Fechamento_2  \\\n",
       "Date                                                                   \n",
       "2008-11-28 00:00:00-02:00  34.744900       0                     NaN   \n",
       "2008-12-01 00:00:00-02:00  35.001598       1                0.974054   \n",
       "\n",
       "                           Tendencia_2  Proporcao_Fechamento_5  Tendencia_5  \\\n",
       "Date                                                                          \n",
       "2008-11-28 00:00:00-02:00          NaN                     NaN          NaN   \n",
       "2008-12-01 00:00:00-02:00          NaN                     NaN          NaN   \n",
       "\n",
       "                           Proporcao_Fechamento_60  Tendencia_60  \\\n",
       "Date                                                               \n",
       "2008-11-28 00:00:00-02:00                      NaN           NaN   \n",
       "2008-12-01 00:00:00-02:00                      NaN           NaN   \n",
       "\n",
       "                           Proporcao_Fechamento_250  Tendencia_250  \n",
       "Date                                                                \n",
       "2008-11-28 00:00:00-02:00                       NaN            NaN  \n",
       "2008-12-01 00:00:00-02:00                       NaN            NaN  "
      ]
     },
     "execution_count": 221,
     "metadata": {},
     "output_type": "execute_result"
    }
   ],
   "source": [
    "bova11.head(2)"
   ]
  },
  {
   "cell_type": "code",
   "execution_count": 222,
   "id": "9962a4c7",
   "metadata": {},
   "outputs": [
    {
     "data": {
      "text/plain": [
       "3440"
      ]
     },
     "execution_count": 222,
     "metadata": {},
     "output_type": "execute_result"
    }
   ],
   "source": [
    "len(bova11)"
   ]
  },
  {
   "cell_type": "code",
   "execution_count": 223,
   "id": "8dc1e9c1",
   "metadata": {},
   "outputs": [],
   "source": [
    "bova11 =bova11.dropna()"
   ]
  },
  {
   "cell_type": "code",
   "execution_count": 224,
   "id": "7debc203",
   "metadata": {},
   "outputs": [
    {
     "data": {
      "text/plain": [
       "3189"
      ]
     },
     "execution_count": 224,
     "metadata": {},
     "output_type": "execute_result"
    }
   ],
   "source": [
    "len(bova11)"
   ]
  },
  {
   "cell_type": "markdown",
   "id": "9b9e6e2b",
   "metadata": {},
   "source": [
    "**Aperfeiçoando o modelo**"
   ]
  },
  {
   "cell_type": "code",
   "execution_count": 225,
   "id": "3cc36e8e",
   "metadata": {},
   "outputs": [],
   "source": [
    "model = RandomForestClassifier(n_estimators=100,min_samples_split=45,random_state=5)"
   ]
  },
  {
   "cell_type": "code",
   "execution_count": 226,
   "id": "7f641e7d",
   "metadata": {},
   "outputs": [],
   "source": [
    "# construindo um sistema de teste mais robusto\n",
    "def predict(train, test, predictors, model):\n",
    "    model.fit(train[predictors], train[\"Target\"])\n",
    "    preds = model.predict_proba(test[predictors])[:,1] #retornando a probabilidade de que o preço vai subir ou não \n",
    "    preds[preds>=.6]=1 # aumentando o critério de previsão positiva para 60%\n",
    "    preds[preds<.6]=0 \n",
    "    preds = pd.Series(preds, index=test.index, name=\"Predictions\")\n",
    "    combinado = pd.concat([test[\"Target\"], preds], axis=1)\n",
    "    return combinado"
   ]
  },
  {
   "cell_type": "code",
   "execution_count": 227,
   "id": "b545599d",
   "metadata": {},
   "outputs": [],
   "source": [
    "predictions = backtest(bova11, model,new_predictors)"
   ]
  },
  {
   "cell_type": "code",
   "execution_count": 228,
   "id": "f3efd7da",
   "metadata": {},
   "outputs": [
    {
     "data": {
      "text/plain": [
       "0.0    2793\n",
       "1.0     296\n",
       "Name: Predictions, dtype: int64"
      ]
     },
     "execution_count": 228,
     "metadata": {},
     "output_type": "execute_result"
    }
   ],
   "source": [
    "predictions[\"Predictions\"].value_counts()"
   ]
  },
  {
   "cell_type": "code",
   "execution_count": 229,
   "id": "04247d08",
   "metadata": {},
   "outputs": [
    {
     "data": {
      "text/plain": [
       "0.5540540540540541"
      ]
     },
     "execution_count": 229,
     "metadata": {},
     "output_type": "execute_result"
    }
   ],
   "source": [
    "# traduzindo: se comprarmos uma ação, em 55% das vezes,o preco vai subir\n",
    "# a precisão/acurácia do modelo foi melhorada e passou de 52% para 55%\n",
    "# calculando a precisão do modelo \n",
    "precision_score(predictions[\"Target\"], predictions[\"Predictions\"])"
   ]
  },
  {
   "cell_type": "markdown",
   "id": "fe34290e",
   "metadata": {},
   "source": [
    "* Este é apenas um modelo inicial. \n",
    "* Para aumentar essa taxa de precisão, \n",
    "* seria necessário incluir mais preditores, tais como inflação, taxa de juros SELIC, ou talvez um outro índice de bolsa como ...\n",
    "* o SP500, de Nova York."
   ]
  },
  {
   "cell_type": "code",
   "execution_count": null,
   "id": "97a9e6bf",
   "metadata": {},
   "outputs": [],
   "source": []
  }
 ],
 "metadata": {
  "kernelspec": {
   "display_name": "Python 3 (ipykernel)",
   "language": "python",
   "name": "python3"
  },
  "language_info": {
   "codemirror_mode": {
    "name": "ipython",
    "version": 3
   },
   "file_extension": ".py",
   "mimetype": "text/x-python",
   "name": "python",
   "nbconvert_exporter": "python",
   "pygments_lexer": "ipython3",
   "version": "3.9.7"
  }
 },
 "nbformat": 4,
 "nbformat_minor": 5
}
